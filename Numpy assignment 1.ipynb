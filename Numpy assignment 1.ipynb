{
 "cells": [
  {
   "cell_type": "code",
   "execution_count": 4,
   "id": "88504c2d",
   "metadata": {},
   "outputs": [
    {
     "name": "stdout",
     "output_type": "stream",
     "text": [
      "[0. 0. 0. 0. 1. 0. 0. 0. 0. 0.]\n"
     ]
    }
   ],
   "source": [
    "# 1. Create a null vector of size 10 but the fifth value which is 1.\n",
    "\n",
    "import numpy as np\n",
    "a=np.zeros(10)\n",
    "a[4]=1\n",
    "print(a)"
   ]
  },
  {
   "cell_type": "code",
   "execution_count": 6,
   "id": "a7b453dd",
   "metadata": {},
   "outputs": [
    {
     "data": {
      "text/plain": [
       "array([[14, 14, 16],\n",
       "       [24, 16, 39],\n",
       "       [46, 27, 42]])"
      ]
     },
     "execution_count": 6,
     "metadata": {},
     "output_type": "execute_result"
    }
   ],
   "source": [
    "# 2. Create a vector with values ranging from 10 to 49.\n",
    "\n",
    "a=np.random.randint(10,49,(3,3))\n",
    "a"
   ]
  },
  {
   "cell_type": "code",
   "execution_count": 11,
   "id": "d05c7c0e",
   "metadata": {},
   "outputs": [
    {
     "data": {
      "text/plain": [
       "array([[0, 1, 2],\n",
       "       [3, 4, 5],\n",
       "       [6, 7, 8]])"
      ]
     },
     "execution_count": 11,
     "metadata": {},
     "output_type": "execute_result"
    }
   ],
   "source": [
    "# 3. Create a 3x3 matrix with values ranging from 0 to 8\n",
    "a=np.arange(0,9).reshape(3,3)\n",
    "a"
   ]
  },
  {
   "cell_type": "code",
   "execution_count": 13,
   "id": "bf2698a7",
   "metadata": {},
   "outputs": [
    {
     "name": "stdout",
     "output_type": "stream",
     "text": [
      "0 1 4 "
     ]
    }
   ],
   "source": [
    "# 4. Find indices of non-zero elements from [1,2,0,0,4,0]\n",
    "a=[1,2,0,0,4,0]\n",
    "for i in range(len(a)): \n",
    "    if a[i]!=0:\n",
    "        print(i,end=\" \")"
   ]
  },
  {
   "cell_type": "code",
   "execution_count": 15,
   "id": "b9557d00",
   "metadata": {},
   "outputs": [
    {
     "name": "stdout",
     "output_type": "stream",
     "text": [
      "minimum :  0\n",
      "maximum :  10\n"
     ]
    }
   ],
   "source": [
    "# 5. Create a 10x10 array with random values and find the minimum and maximum values\n",
    "\n",
    "a=np.random.randint(0,11,(10,10))\n",
    "print(\"minimum : \",a.min())\n",
    "print(\"maximum : \",a.max())"
   ]
  },
  {
   "cell_type": "code",
   "execution_count": 20,
   "id": "b7d1d4e9",
   "metadata": {},
   "outputs": [
    {
     "data": {
      "text/plain": [
       "14.6"
      ]
     },
     "execution_count": 20,
     "metadata": {},
     "output_type": "execute_result"
    }
   ],
   "source": [
    "# 6. Create a random vector of size 30 and find the mean value.\n",
    "a=np.random.randint(0,30,30)\n",
    "a.mean()"
   ]
  }
 ],
 "metadata": {
  "kernelspec": {
   "display_name": "Python 3 (ipykernel)",
   "language": "python",
   "name": "python3"
  },
  "language_info": {
   "codemirror_mode": {
    "name": "ipython",
    "version": 3
   },
   "file_extension": ".py",
   "mimetype": "text/x-python",
   "name": "python",
   "nbconvert_exporter": "python",
   "pygments_lexer": "ipython3",
   "version": "3.10.1"
  }
 },
 "nbformat": 4,
 "nbformat_minor": 5
}
